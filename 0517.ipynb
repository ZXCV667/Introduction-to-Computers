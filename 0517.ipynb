{
  "nbformat": 4,
  "nbformat_minor": 0,
  "metadata": {
    "colab": {
      "provenance": [],
      "authorship_tag": "ABX9TyO6ZIOD7MxaYTvlkzAqpyuM",
      "include_colab_link": true
    },
    "kernelspec": {
      "name": "python3",
      "display_name": "Python 3"
    },
    "language_info": {
      "name": "python"
    }
  },
  "cells": [
    {
      "cell_type": "markdown",
      "metadata": {
        "id": "view-in-github",
        "colab_type": "text"
      },
      "source": [
        "<a href=\"https://colab.research.google.com/github/ZXCV667/Introduction-to-Computers/blob/main/0517.ipynb\" target=\"_parent\"><img src=\"https://colab.research.google.com/assets/colab-badge.svg\" alt=\"Open In Colab\"/></a>"
      ]
    },
    {
      "cell_type": "code",
      "execution_count": null,
      "metadata": {
        "colab": {
          "base_uri": "https://localhost:8080/"
        },
        "id": "bgnROClC8DGG",
        "outputId": "218e4005-e59e-4d7f-c20d-e7b44509b8d4"
      },
      "outputs": [
        {
          "output_type": "stream",
          "name": "stdout",
          "text": [
            "score: 76\n",
            "Grade is: C\n"
          ]
        }
      ],
      "source": [
        "score = int(input(\"score: \"))\n",
        "if score >= 90:\n",
        "    print('Grade is: A')\n",
        "elif score >= 80:\n",
        "    print('Grade is: B')\n",
        "elif score >= 70:\n",
        "    print('Grade is: C')\n",
        "elif score >= 60:\n",
        "    print('Grade is: D')\n",
        "else:\n",
        "    print('Grade is: F')"
      ]
    },
    {
      "cell_type": "code",
      "source": [
        "rain = str(input(\"今天會下雨嗎:\"))\n",
        "if(rain == \"Y\"):\n",
        "  print(\"今天出門記得帶傘!\")\n",
        "elif(rain == \"y\"):\n",
        "  print(\"今天出門記得帶傘!\")\n",
        "elif(rain == \"N\"):\n",
        "  print(\"今天出門不用帶傘!\")\n",
        "elif(rain == \"n\"):\n",
        "  print(\"今天出門不用帶傘!\")\n",
        "else:\n",
        "  print(\"請重新輸入!\")"
      ],
      "metadata": {
        "colab": {
          "base_uri": "https://localhost:8080/"
        },
        "id": "McjNSGxK8bdC",
        "outputId": "bb7e7e28-041f-4c39-99be-326f375aef79"
      },
      "execution_count": null,
      "outputs": [
        {
          "output_type": "stream",
          "name": "stdout",
          "text": [
            "今天會下雨嗎:n\n",
            "今天出門不用帶傘!\n"
          ]
        }
      ]
    },
    {
      "cell_type": "code",
      "source": [
        "T = float(input(\"請輸入體溫:\"))\n",
        "if(T >= 37.5):\n",
        "  print(\"體溫過高!\")\n",
        "elif(T >= 37.0):\n",
        "  print(\"體溫略高!\")\n",
        "elif(T >= 34.0):\n",
        "  print(\"體溫正常!\")\n",
        "else:\n",
        "  print(\"體溫異常，請重新測量!\")"
      ],
      "metadata": {
        "colab": {
          "base_uri": "https://localhost:8080/"
        },
        "id": "jgJb328R-Iye",
        "outputId": "949be133-6abd-420e-a6e4-09bce7a357be"
      },
      "execution_count": null,
      "outputs": [
        {
          "output_type": "stream",
          "name": "stdout",
          "text": [
            "請輸入體溫:38\n",
            "體溫過高!\n"
          ]
        }
      ]
    },
    {
      "cell_type": "code",
      "source": [
        "score = int(input(\"score: \"))\n",
        "if score >= 90:\n",
        "    print('Grade is: A')\n",
        "elif score >= 80:\n",
        "    print('Grade is: B')\n",
        "elif score >= 70:\n",
        "    print('Grade is: C')\n",
        "elif score >= 60:\n",
        "    print('Grade is: D')\n",
        "else:\n",
        "    print('Grade is: E')"
      ],
      "metadata": {
        "colab": {
          "base_uri": "https://localhost:8080/"
        },
        "id": "OFnKYcjqBKd3",
        "outputId": "9f08b813-8eab-4898-8810-b8bd8ac96f73"
      },
      "execution_count": null,
      "outputs": [
        {
          "output_type": "stream",
          "name": "stdout",
          "text": [
            "score: 79\n",
            "Grade is: C\n"
          ]
        }
      ]
    },
    {
      "cell_type": "code",
      "source": [
        "m = int(input(\"請輸入月份\"))\n",
        "if(m==3 or m==4 or m==5):\n",
        "  print(\"{} 月是春天\".format(m))\n",
        "elif(m==6 or m==7 or m==8):\n",
        "  print(\"{} 月是夏天\".format(m))\n",
        "elif(m==9 or m==10 or m==11):\n",
        "  print(\"{} 月是秋天\".format(m))\n",
        "elif(m==12 or m==1 or m==2):\n",
        "  print(\"{} 月是冬天\".format(m))\n",
        "else:\n",
        "  print(\"{} 月份不在範圍\".format(m))"
      ],
      "metadata": {
        "colab": {
          "base_uri": "https://localhost:8080/"
        },
        "id": "tQE2JsOUCll8",
        "outputId": "566084da-5f7a-4cc2-b789-1b9fe3d44002"
      },
      "execution_count": null,
      "outputs": [
        {
          "output_type": "stream",
          "name": "stdout",
          "text": [
            "請輸入月份9\n",
            "9 月是秋天\n"
          ]
        }
      ]
    },
    {
      "cell_type": "code",
      "source": [
        "M = int(input(\"請輸入今年收入淨額:\"))\n",
        "if(M >= 2000000):\n",
        "  M *= 0.3\n",
        "  print(\"付稅金額:{}元\".format(M))\n",
        "elif(M >= 1000000):\n",
        "  M *= 0.21\n",
        "  print(\"付稅金額:{}元\".format(M))\n",
        "elif(M >= 600000):\n",
        "  M *= 0.13\n",
        "  print(\"付稅金額:{}元\".format(M))\n",
        "elif(M >= 300000):\n",
        "  M *= 0.06\n",
        "  print(\"付稅金額:{}元\".format(M))"
      ],
      "metadata": {
        "id": "QrAacD3bEjB1",
        "colab": {
          "base_uri": "https://localhost:8080/"
        },
        "outputId": "77cb6b0a-b01f-4416-a221-0ff205a7220d"
      },
      "execution_count": 8,
      "outputs": [
        {
          "output_type": "stream",
          "name": "stdout",
          "text": [
            "請輸入今年收入淨額:300000\n",
            "付稅金額:18000.0元\n"
          ]
        }
      ]
    },
    {
      "cell_type": "code",
      "source": [],
      "metadata": {
        "id": "YC9MFzzfyw82"
      },
      "execution_count": 4,
      "outputs": []
    }
  ]
}